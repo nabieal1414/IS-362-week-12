{
 "cells": [
  {
   "cell_type": "code",
   "execution_count": null,
   "metadata": {},
   "outputs": [],
   "source": [
    "import pandas as pd\n",
    "import matplotlib.pyplot as plt\n",
    "\n",
    "# Define column names based on the data dictionary\n",
    "column_names = ['Edible/Poisonous', 'Odor', 'Cap-Color']  # Modify this list as per your selection\n",
    "\n",
    "# Load the dataset into a DataFrame\n",
    "df = pd.read_csv('https://archive.ics.uci.edu/ml/machine-learning-databases/mushroom/agaricus-lepiota.data', header=None, names=column_names)\n",
    "\n",
    "# Replace the codes used in the data with numeric values\n",
    "target_mapping = {'e': 0, 'p': 1}\n",
    "df['Edible/Poisonous'] = df['Edible/Poisonous'].map(target_mapping)\n",
    "\n",
    "# Display the distribution of data for each selected column\n",
    "for column in df.columns:\n",
    "    plt.figure()\n",
    "    df[column].value_counts().plot(kind='bar')\n",
    "    plt.xlabel(column)\n",
    "    plt.ylabel('Count')\n",
    "    plt.title('Distribution of {}'.format(column))\n",
    "    plt.show()\n",
    "\n",
    "# Scatter plot: Edible/Poisonous vs. Odor\n",
    "plt.scatter(df['Odor'], df['Edible/Poisonous'])\n",
    "plt.xlabel('Odor')\n",
    "plt.ylabel('Edible/Poisonous')\n",
    "plt.title('Edible/Poisonous vs. Odor')\n",
    "plt.show()\n",
    "\n",
    "# Scatter plot: Edible/Poisonous vs. Cap-Color\n",
    "plt.scatter(df['Cap-Color'], df['Edible/Poisonous'])\n",
    "plt.xlabel('Cap-Color')\n",
    "plt.ylabel('Edible/Poisonous')\n",
    "plt.title('Edible/Poisonous vs. Cap-Color')\n",
    "plt.show()"
   ]
  }
 ],
 "metadata": {
  "kernelspec": {
   "display_name": "Python 3",
   "language": "python",
   "name": "python3"
  },
  "language_info": {
   "codemirror_mode": {
    "name": "ipython",
    "version": 3
   },
   "file_extension": ".py",
   "mimetype": "text/x-python",
   "name": "python",
   "nbconvert_exporter": "python",
   "pygments_lexer": "ipython3",
   "version": "3.8.3"
  }
 },
 "nbformat": 4,
 "nbformat_minor": 4
}
